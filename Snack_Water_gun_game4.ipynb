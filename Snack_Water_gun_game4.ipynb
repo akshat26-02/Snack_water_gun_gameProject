{
  "nbformat": 4,
  "nbformat_minor": 0,
  "metadata": {
    "colab": {
      "provenance": []
    },
    "kernelspec": {
      "name": "python3",
      "display_name": "Python 3"
    },
    "language_info": {
      "name": "python"
    }
  },
  "cells": [
    {
      "cell_type": "code",
      "execution_count": null,
      "metadata": {
        "colab": {
          "base_uri": "https://localhost:8080/"
        },
        "id": "G3otaYfCRV8a",
        "outputId": "5bfe4985-330b-46b7-bdfa-3481de3d9b45"
      },
      "outputs": [
        {
          "output_type": "stream",
          "name": "stdout",
          "text": [
            "comp Turn: snake(s), water(w) or gun(g)?\n",
            "your Turn: snake(s), water(w), gun(g)?s\n",
            "comp choose s\n",
            "you choose s\n",
            "The Game is Tie\n"
          ]
        }
      ],
      "source": [
        "import random\n",
        "def gamewin(comp, you):\n",
        "  if comp == you:\n",
        "    return None\n",
        "  elif  comp == 's':\n",
        "       if you == 'w':\n",
        "        return False\n",
        "       elif you == 'g':\n",
        "        return True\n",
        "  elif comp == 'w':\n",
        "    if you == 'g':\n",
        "      return False\n",
        "    elif you == 's':\n",
        "      return True\n",
        "  elif comp == 'g':\n",
        "    if you == 's':\n",
        "      return False\n",
        "    elif you == 'w':\n",
        "      return True\n",
        "\n",
        "print('comp Turn: snake(s), water(w) or gun(g)?')\n",
        "randNo = random.randint(1, 3)\n",
        "if randNo == 1:\n",
        "  comp = 's'\n",
        "elif randNo == 2:\n",
        "  comp = 'w'\n",
        "elif randNo == 3:\n",
        "  comp = 'g'\n",
        "you = input('your Turn: snake(s), water(w), gun(g)?')\n",
        "a = gamewin(comp,you)\n",
        "print(f'comp choose {comp}')\n",
        "print(f'you choose { you}')\n",
        "if a==None:\n",
        "  print(\"The Game is Tie\")\n",
        "elif a:\n",
        "  print(\"You win!\")\n",
        "else:\n",
        "    print('You lose!')"
      ]
    },
    {
      "cell_type": "code",
      "source": [
        "\n"
      ],
      "metadata": {
        "id": "hJuyqi28Rjdo"
      },
      "execution_count": null,
      "outputs": []
    },
    {
      "cell_type": "code",
      "source": [],
      "metadata": {
        "id": "G8Du3-BmR5zh"
      },
      "execution_count": null,
      "outputs": []
    }
  ]
}